{
 "cells": [
  {
   "cell_type": "code",
   "execution_count": null,
   "id": "4fa9e03d-4937-479c-9e57-f1a1feb4381a",
   "metadata": {},
   "outputs": [],
   "source": [
    "# os.environ[\"DIFFBOT_API_KEY\"] = '1ef1c7b6024f4c2fabfa0689cce140d7'\n",
    "# DIFF_TOKEN = '1ef1c7b6024f4c2fabfa0689cce140d7'"
   ]
  },
  {
   "cell_type": "code",
   "execution_count": 4,
   "id": "2a66e4e5-7725-4bf3-9fe3-8e9b03c0fbbb",
   "metadata": {},
   "outputs": [],
   "source": [
    "from typing import Any, Dict, List, Optional, Union\n",
    "def process_entities(entity: str, type: str) -> Dict[str, Any]:\n",
    "    \"\"\"\n",
    "    Fetch relevant articles from Diffbot KG endpoint\n",
    "    \"\"\"\n",
    "    search_host = \"https://kg.diffbot.com/kg/v3/enhance?\"\n",
    "    params = {\"type\": type, \"name\": entity, \"token\": DIFF_TOKEN}\n",
    "    encoded_query = urlencode(params)\n",
    "    url = f\"{search_host}{encoded_query}\"\n",
    "    return entity, requests.get(url).json()"
   ]
  },
  {
   "cell_type": "code",
   "execution_count": 12,
   "id": "2e51515c-76f6-448f-afa8-e4756ace5b69",
   "metadata": {},
   "outputs": [],
   "source": [
    "import os\n",
    "import logging\n",
    "import os\n",
    "from datetime import datetime\n",
    "from typing import Any, Dict, List, Optional, Union\n",
    "from urllib.parse import urlencode\n",
    "import requests\n",
    "\n",
    "os.environ[\"DIFFBOT_API_KEY\"] = 'd8f934b749507bc6a9939848e77b380c'\n",
    "DIFF_TOKEN = 'd8f934b749507bc6a9939848e77b380c'\n",
    "\n",
    "def process_entities(entity: str, type: str) -> Dict[str, Any]:\n",
    "    \"\"\"\n",
    "    Fetch relevant articles from Diffbot KG endpoint\n",
    "    \"\"\"\n",
    "    print(entity, type)\n",
    "    search_host = \"https://kg.diffbot.com/kg/v3/enhance?\"\n",
    "    params = {\"type\": type, \"name\": entity, \"token\": DIFF_TOKEN}\n",
    "    encoded_query = urlencode(params)\n",
    "    url = f\"{search_host}{encoded_query}\"\n",
    "    return requests.get(url).json()"
   ]
  },
  {
   "cell_type": "code",
   "execution_count": 11,
   "id": "6101b30a-274b-4748-bfca-21bf2ada4dd5",
   "metadata": {},
   "outputs": [
    {
     "name": "stdout",
     "output_type": "stream",
     "text": [
      "Jensen Huang Person\n"
     ]
    },
    {
     "data": {
      "text/plain": [
       "{'requestId': '6ef074df935b8a541e77ac6aa547f305',\n",
       " 'code': 403,\n",
       " 'message': \"Your plan doesn't have that feature\"}"
      ]
     },
     "execution_count": 11,
     "metadata": {},
     "output_type": "execute_result"
    }
   ],
   "source": [
    "jensen = process_entities(\"Jensen Huang\",\"Person\")\n",
    "jensen"
   ]
  },
  {
   "cell_type": "code",
   "execution_count": 267,
   "id": "beaf1613-12ca-4f99-9e28-d751530d220b",
   "metadata": {},
   "outputs": [
    {
     "name": "stdout",
     "output_type": "stream",
     "text": [
      "Mira Murati Person\n"
     ]
    }
   ],
   "source": [
    "mira = process_entities(\"Mira Murati\",\"Person\")"
   ]
  },
  {
   "cell_type": "code",
   "execution_count": 272,
   "id": "4df0a4e6-509f-491a-88d3-57e27621833e",
   "metadata": {},
   "outputs": [
    {
     "data": {
      "text/plain": [
       "[{'name': 'United States of America', 'type': 'AdministrativeArea'},\n",
       " {'name': 'Taiwan', 'type': 'AdministrativeArea'},\n",
       " {'name': 'Taiwanese, American', 'type': 'AdministrativeArea'}]"
      ]
     },
     "execution_count": 272,
     "metadata": {},
     "output_type": "execute_result"
    }
   ],
   "source": [
    "jensen['data'][0]['entity'][\"nationalities\"]"
   ]
  },
  {
   "cell_type": "code",
   "execution_count": 274,
   "id": "a9928503-df9f-42de-817f-20b59e2c72fb",
   "metadata": {},
   "outputs": [
    {
     "data": {
      "text/plain": [
       "{'summary': 'Country in East Asia',\n",
       " 'image': 'https://kg.diffbot.com/image/api/get?fetch=yes&url=g%3Cj7P0St0DnBJf.x0KwLZrUn.%5B%3CR0Aa4Hh%3B%5Bv738ZqOr7U%3FFvur%3EVM%40Nl%3C_4%40mMg1Ay%3CLvEs%3AVsPZqT9IO3SnB%5B%3DDjA%60%2F99%5Dp%3Ag%3C%7Cg.Ok%7B',\n",
       " 'types': ['Place', 'AdministrativeArea', 'Country'],\n",
       " 'name': 'Taiwan',\n",
       " 'diffbotUri': 'http://diffbot.com/entity/EP-lHngxXPDeoLGinsUr9Ew',\n",
       " 'targetDiffbotId': 'EP-lHngxXPDeoLGinsUr9Ew',\n",
       " 'type': 'Place'}"
      ]
     },
     "execution_count": 274,
     "metadata": {},
     "output_type": "execute_result"
    }
   ],
   "source": [
    "data['data'][0][\"entity\"]['locations'][1][\"country\"]"
   ]
  },
  {
   "cell_type": "code",
   "execution_count": 407,
   "id": "5944c696-c990-4293-b270-aa9e3fe98b7e",
   "metadata": {},
   "outputs": [],
   "source": [
    "def get_people_params(row: Dict) -> Optional[Dict]:\n",
    "    firstName = row.get(\"nameDetail\", {}).get(\"firstName\", \"\")\n",
    "    lastName = row.get(\"nameDetail\", {}).get(\"lastName\", \"\")\n",
    "    name = (firstName + \" \" + lastName).strip()\n",
    "    \n",
    "    # Skip entries without a valid name\n",
    "    if not name:\n",
    "        return None\n",
    "\n",
    "    node_properties = {\n",
    "        \"education\": row.get(\"educations\", [{}])[0].get(\"institution\", {}).get(\"name\", \"\"),\n",
    "        \"wikipedia\": row.get(\"wikipediaUri\", {}),\n",
    "        \"description\": row.get(\"description\", {}),\n",
    "        \"summary\": row.get(\"summary\", {}),\n",
    "        \"net_worth\": (str(row.get(\"netWorth\", {}).get('value', '')) + \" \" + row.get(\"netWorth\", {}).get('currency', '')).strip(),\n",
    "        \"birth_date\": row.get(\"birthDate\", {}).get(\"str\", \"\")[1:],\n",
    "        \"linkedin\": row.get(\"linkedInUri\", {}),\n",
    "    }\n",
    "\n",
    "    locations = [\n",
    "        {\"city\": el.get(\"city\", {}).get(\"name\", \"\"), \"summary\": el.get(\"city\", {}).get(\"summary\", \"\"), \"country\": el.get(\"country\", {}).get(\"name\", \"\")}\n",
    "        for el in row.get(\"locations\", []) if el.get(\"city\", {}).get(\"name\", \"\")\n",
    "    ]\n",
    "\n",
    "    nationalities = [{\n",
    "        \"name\": row[\"nationalities\"][-1][\"name\"],\n",
    "        \"type\": row[\"nationalities\"][-1].get(\"type\", \"Nationality\")\n",
    "    }] if row.get(\"nationalities\") and \"name\" in row[\"nationalities\"][-1] else []\n",
    "\n",
    "\n",
    "    employments = [\n",
    "        {\n",
    "            \"title\": el.get(\"title\"),\n",
    "            \"employer\": el.get(\"employer\", {}).get(\"name\"),\n",
    "            \"isCurrent\": el.get(\"isCurrent\", False),\n",
    "            \"from\": el.get(\"from\", {}).get(\"str\", \"\")[1:5],\n",
    "            \"to\": el.get(\"to\", {}).get(\"str\", \"\")[1:5],\n",
    "        }\n",
    "        for el in row.get(\"employments\", [])\n",
    "        if el.get(\"title\") and el.get(\"employer\", {}).get(\"name\")\n",
    "    ]\n",
    "\n",
    "    return {\n",
    "        \"name\": name,\n",
    "        \"type\": row[\"type\"],\n",
    "        \"node_properties\": node_properties,\n",
    "        \"locations\": locations,\n",
    "        \"nationalities\": nationalities,\n",
    "        \"employments\": employments\n",
    "    }\n"
   ]
  },
  {
   "cell_type": "code",
   "execution_count": 16,
   "id": "f795fb72-4f17-404d-894e-2b527e7c8bc4",
   "metadata": {},
   "outputs": [
    {
     "name": "stdout",
     "output_type": "stream",
     "text": [
      "Barack Obama Person\n"
     ]
    }
   ],
   "source": [
    "obama = process_entities(\"Barack Obama\", \"Person\")"
   ]
  },
  {
   "cell_type": "code",
   "execution_count": null,
   "id": "0b7ad815-dd76-4a22-b5d8-a87005bdb731",
   "metadata": {},
   "outputs": [],
   "source": [
    "obama[\"\"]"
   ]
  },
  {
   "cell_type": "code",
   "execution_count": 420,
   "id": "9d14e4c9-1898-42e7-96b9-072ab6ca8e4a",
   "metadata": {},
   "outputs": [
    {
     "data": {
      "text/plain": [
       "'Jensen Huang'"
      ]
     },
     "execution_count": 420,
     "metadata": {},
     "output_type": "execute_result"
    }
   ],
   "source": [
    "data[\"data\"][0][\"entity\"]['name']"
   ]
  },
  {
   "cell_type": "code",
   "execution_count": 438,
   "id": "758a6726-b7dc-415f-b03c-249e4b770f94",
   "metadata": {},
   "outputs": [],
   "source": [
    "def store_enhanced_data(data: List[Dict[str, Any]]) -> Dict:\n",
    "    organizations = []\n",
    "    people = []\n",
    "    no_data = []\n",
    "\n",
    "    for element in data:\n",
    "        try:\n",
    "            entity = element[\"data\"][0][\"entity\"]\n",
    "        except (TypeError, IndexError):\n",
    "            no_data.append(element[\"data\"][0][\"entity\"][\"name\"])\n",
    "            continue\n",
    "\n",
    "        type = entity[\"type\"]\n",
    "        if type == \"Organization\":\n",
    "            params = get_organization_params(name, entity)\n",
    "            organizations.append(params)\n",
    "        elif type == \"Person\":\n",
    "            params = get_people_params(entity)\n",
    "            people.append(params)\n",
    "\n",
    "    if no_data:\n",
    "        graph.query(no_data_processed_query, {\"data\": no_data})\n",
    "\n",
    "    if organizations:\n",
    "        graph.query(organization_import_query, {\"data\": organizations})\n",
    "\n",
    "    if people:\n",
    "        graph.query(person_import_query, {\"data\": people})\n",
    "\n",
    "    return {\"organizations\": len(organizations), \"people\": len(people)}\n"
   ]
  },
  {
   "cell_type": "code",
   "execution_count": 414,
   "id": "93233c0a-5b2c-4acf-8ecb-9fecf43cefdd",
   "metadata": {},
   "outputs": [],
   "source": [
    "person_import_query = \"\"\"\n",
    "    UNWIND $data AS row\n",
    "    MERGE (p:Person {name: row.name})\n",
    "    SET p += row.node_properties\n",
    "    WITH p, row\n",
    "    \n",
    "    CALL {\n",
    "        WITH p, row\n",
    "        UNWIND row.locations AS loc\n",
    "        MERGE (city:City {name: loc.city})\n",
    "        ON CREATE SET city.summary = loc.summary, city.country = loc.country\n",
    "        MERGE (p)-[:PERSON_LOCATION]->(city)\n",
    "        RETURN count(*) AS locationCount\n",
    "    }\n",
    "    \n",
    "    CALL {\n",
    "        WITH p, row\n",
    "        UNWIND row.nationalities AS nat\n",
    "        MERGE (n:Nationality {name: nat.name})\n",
    "        ON CREATE SET n.type = nat.type\n",
    "        MERGE (p)-[:HAS_NATIONALITY]->(n)\n",
    "        RETURN count(*) AS nationalityCount\n",
    "    }\n",
    "    \n",
    "    CALL {\n",
    "        WITH p, row\n",
    "        UNWIND row.employments AS emp\n",
    "        MERGE (org:Organization {name: emp.employer})\n",
    "        WITH p, org, emp\n",
    "        CALL apoc.create.relationship(p, toUpper(emp.title), {isCurrent: emp.isCurrent, fromYear: emp.from, toYear: emp.to}, org) YIELD rel\n",
    "        RETURN count(*) AS employmentCount\n",
    "    }\n",
    "\n",
    "    RETURN count(*) AS total\n",
    "\"\"\"\n"
   ]
  },
  {
   "cell_type": "code",
   "execution_count": 410,
   "id": "01d6b641-f02e-43b1-8fc2-e2200a58cfb4",
   "metadata": {},
   "outputs": [],
   "source": [
    "from langchain_community.graphs import Neo4jGraph\n",
    "\n",
    "url = \"neo4j+s://cd06e1d4.databases.neo4j.io\"\n",
    "username = \"neo4j\"\n",
    "password = \"njhdKCseS0Z_TVfI7y2aa-eGPDg2XwZkljZMMnoRUYg\"\n",
    "\n",
    "graph = Neo4jGraph(url=url, username=username, password=password)"
   ]
  },
  {
   "cell_type": "code",
   "execution_count": 417,
   "id": "b6a72d9d-7243-4164-8279-37cc4fd9f755",
   "metadata": {},
   "outputs": [
    {
     "data": {
      "text/plain": [
       "[{'institution': {'summary': 'Private university in Hanover, New Hampshire, US',\n",
       "   'image': 'https://kg.diffbot.com/image/api/get?fetch=yes&url=g%3Cj7P0St0DnBJf.x0KwLZrUn.%5B%3CR0Aa4Hh%3B%5Bv738ZqOr7U%3FGvvo%3EiO%3Eap%3Bo%3FIYkh%7BDk%3ERePt2S.Voy',\n",
       "   'types': ['Organization', 'Corporation', 'Company'],\n",
       "   'name': 'Dartmouth College',\n",
       "   'diffbotUri': 'http://diffbot.com/entity/EwuIuRuA-Nj-cNiQObXxdTQ',\n",
       "   'targetDiffbotId': 'EwuIuRuA-Nj-cNiQObXxdTQ',\n",
       "   'type': 'Organization'},\n",
       "  'isCurrent': False,\n",
       "  'major': {},\n",
       "  'degree': {'types': ['Intangible', 'DegreeEntity'],\n",
       "   'name': \"Bachelor's (4 year program)\",\n",
       "   'diffbotUri': 'http://diffbot.com/entity/EtWuqNi7UOGu2JRK_z95kDg',\n",
       "   'targetDiffbotId': 'EtWuqNi7UOGu2JRK_z95kDg',\n",
       "   'type': 'DegreeEntity'},\n",
       "  'from': {'str': 'd2009-XX-XX', 'precision': 1, 'timestamp': 1230768000000},\n",
       "  'to': {'str': 'd2012-XX-XX', 'precision': 1, 'timestamp': 1325376000000}},\n",
       " {'institution': {'summary': 'Engineering school of Dartmouth College',\n",
       "   'image': 'https://kg.diffbot.com/image/api/get?fetch=yes&url=g%3Cj7P0SttAc%3ANu.d9U%7CB%5DpM08.%7DZnIa6%40_%3Bv2FpDLhawxEr-%5BuTpJZ%40-r%3Ec2Jh9e%3EFhI%60vFsCR8VpvasBg1W%7C',\n",
       "   'types': ['Organization', 'Corporation', 'Company'],\n",
       "   'name': 'Thayer School of Engineering',\n",
       "   'diffbotUri': 'http://diffbot.com/entity/Ec0pQRWExN5aKkNpi2whmIA',\n",
       "   'targetDiffbotId': 'Ec0pQRWExN5aKkNpi2whmIA',\n",
       "   'type': 'Organization'},\n",
       "  'isCurrent': False,\n",
       "  'degree': {'types': ['Intangible', 'DegreeEntity'],\n",
       "   'name': \"Bachelor's (4 year program)\",\n",
       "   'diffbotUri': 'http://diffbot.com/entity/EtWuqNi7UOGu2JRK_z95kDg',\n",
       "   'targetDiffbotId': 'EtWuqNi7UOGu2JRK_z95kDg',\n",
       "   'type': 'DegreeEntity'},\n",
       "  'to': {'str': 'd2012-XX-XX', 'precision': 1, 'timestamp': 1325376000000}},\n",
       " {'institution': {'summary': 'Education movement',\n",
       "   'image': 'https://kg.diffbot.com/image/api/get?fetch=yes&url=g%3Cj7P0St0DnBJf.x0KwLZrUn.%5B%3CR0Aa4Hh%3B%5Bv738ZqOr7U%3FEvtQ%3EzE_LL%3An0Sh9mxGt8Ye6L%5DC5FkwU%2F.Z%3EV',\n",
       "   'types': ['Organization', 'Corporation', 'Company'],\n",
       "   'name': 'UWC (United World Colleges)',\n",
       "   'diffbotUri': 'http://diffbot.com/entity/EGxVUOjHiMEWFTPisLs99Ig',\n",
       "   'targetDiffbotId': 'EGxVUOjHiMEWFTPisLs99Ig',\n",
       "   'type': 'Organization'}}]"
      ]
     },
     "execution_count": 417,
     "metadata": {},
     "output_type": "execute_result"
    }
   ],
   "source": [
    "mira['data'][0]['entity']['educations']"
   ]
  },
  {
   "cell_type": "code",
   "execution_count": 390,
   "id": "40238b1e-3e16-47bf-bc07-e3b686dd6791",
   "metadata": {},
   "outputs": [
    {
     "name": "stdout",
     "output_type": "stream",
     "text": [
      "Mira Murati Person\n"
     ]
    }
   ],
   "source": [
    "mir = process_entities(\"Mira Murati\", \"Person\")"
   ]
  },
  {
   "cell_type": "code",
   "execution_count": null,
   "id": "16e14edf-ff6d-4b08-9008-5d59fde191f1",
   "metadata": {},
   "outputs": [],
   "source": [
    "jen"
   ]
  },
  {
   "cell_type": "code",
   "execution_count": 416,
   "id": "acbe034f-687e-4a76-b503-a6d7093dd4d4",
   "metadata": {},
   "outputs": [
    {
     "data": {
      "text/plain": [
       "{'organizations': 0, 'people': 1}"
      ]
     },
     "execution_count": 416,
     "metadata": {},
     "output_type": "execute_result"
    }
   ],
   "source": [
    "store_enhanced_data(jen)"
   ]
  },
  {
   "cell_type": "code",
   "execution_count": 397,
   "id": "fadf226a-d585-4095-8d41-6ee7a8975033",
   "metadata": {},
   "outputs": [
    {
     "data": {
      "text/plain": [
       "dict_keys(['isCurrent', 'employer', 'from', 'categories', 'title'])"
      ]
     },
     "execution_count": 397,
     "metadata": {},
     "output_type": "execute_result"
    }
   ],
   "source": [
    "mir['data'][0]['entity']['employments'][0].keys()"
   ]
  },
  {
   "cell_type": "code",
   "execution_count": 402,
   "id": "13b18a9c-3bdf-40f8-8609-a32697befd3e",
   "metadata": {},
   "outputs": [
    {
     "name": "stdout",
     "output_type": "stream",
     "text": [
      "CTO\n",
      "0\n",
      "Product (Program) Manager, Vehicles |- Associate Product Manager\n",
      "1\n",
      "Board Member\n",
      "2\n",
      "SVP of Research, Product & Partnerships\n",
      "3\n",
      "VP of Applied AI & Partnerships\n",
      "4\n",
      "VP of Product & Engineering\n",
      "5\n",
      "Vice President of Product\n",
      "6\n",
      "Senior Product Manager, Model X\n",
      "7\n",
      "Advanced Concepts Engineer\n",
      "8\n",
      "Summer Analyst\n",
      "9\n",
      "Teaching Assistant\n",
      "10\n",
      "VP Product\n",
      "11\n"
     ]
    },
    {
     "ename": "KeyError",
     "evalue": "'title'",
     "output_type": "error",
     "traceback": [
      "\u001b[0;31m---------------------------------------------------------------------------\u001b[0m",
      "\u001b[0;31mKeyError\u001b[0m                                  Traceback (most recent call last)",
      "Cell \u001b[0;32mIn[402], line 2\u001b[0m\n\u001b[1;32m      1\u001b[0m \u001b[38;5;28;01mfor\u001b[39;00m i \u001b[38;5;129;01min\u001b[39;00m \u001b[38;5;28mrange\u001b[39m(\u001b[38;5;28mlen\u001b[39m(mir[\u001b[38;5;124m'\u001b[39m\u001b[38;5;124mdata\u001b[39m\u001b[38;5;124m'\u001b[39m][\u001b[38;5;241m0\u001b[39m][\u001b[38;5;124m'\u001b[39m\u001b[38;5;124mentity\u001b[39m\u001b[38;5;124m'\u001b[39m][\u001b[38;5;124m'\u001b[39m\u001b[38;5;124memployments\u001b[39m\u001b[38;5;124m'\u001b[39m])):\n\u001b[0;32m----> 2\u001b[0m     \u001b[38;5;28mprint\u001b[39m(\u001b[43mmir\u001b[49m\u001b[43m[\u001b[49m\u001b[38;5;124;43m'\u001b[39;49m\u001b[38;5;124;43mdata\u001b[39;49m\u001b[38;5;124;43m'\u001b[39;49m\u001b[43m]\u001b[49m\u001b[43m[\u001b[49m\u001b[38;5;241;43m0\u001b[39;49m\u001b[43m]\u001b[49m\u001b[43m[\u001b[49m\u001b[38;5;124;43m'\u001b[39;49m\u001b[38;5;124;43mentity\u001b[39;49m\u001b[38;5;124;43m'\u001b[39;49m\u001b[43m]\u001b[49m\u001b[43m[\u001b[49m\u001b[38;5;124;43m'\u001b[39;49m\u001b[38;5;124;43memployments\u001b[39;49m\u001b[38;5;124;43m'\u001b[39;49m\u001b[43m]\u001b[49m\u001b[43m[\u001b[49m\u001b[43mi\u001b[49m\u001b[43m]\u001b[49m\u001b[43m[\u001b[49m\u001b[38;5;124;43m'\u001b[39;49m\u001b[38;5;124;43mtitle\u001b[39;49m\u001b[38;5;124;43m'\u001b[39;49m\u001b[43m]\u001b[49m)\n\u001b[1;32m      3\u001b[0m     \u001b[38;5;28mprint\u001b[39m(i)\n",
      "\u001b[0;31mKeyError\u001b[0m: 'title'"
     ]
    }
   ],
   "source": [
    "for i in range(len(mir['data'][0]['entity']['employments'])):\n",
    "    print(mir['data'][0]['entity']['employments'][i]['title'])\n",
    "    print(i)"
   ]
  },
  {
   "cell_type": "code",
   "execution_count": 406,
   "id": "1562fb7c-6165-46fb-9945-9ae5659eae73",
   "metadata": {},
   "outputs": [
    {
     "data": {
      "text/plain": [
       "dict_keys(['isCurrent', 'employer', 'location', 'categories', 'title'])"
      ]
     },
     "execution_count": 406,
     "metadata": {},
     "output_type": "execute_result"
    }
   ],
   "source": [
    "mir['data'][0]['entity']['employments'][11].keys()"
   ]
  },
  {
   "cell_type": "code",
   "execution_count": null,
   "id": "c124f1be-95bf-4a09-908e-c39526c64c59",
   "metadata": {},
   "outputs": [],
   "source": []
  }
 ],
 "metadata": {
  "kernelspec": {
   "display_name": "Python 3 (ipykernel)",
   "language": "python",
   "name": "python3"
  },
  "language_info": {
   "codemirror_mode": {
    "name": "ipython",
    "version": 3
   },
   "file_extension": ".py",
   "mimetype": "text/x-python",
   "name": "python",
   "nbconvert_exporter": "python",
   "pygments_lexer": "ipython3",
   "version": "3.10.12"
  }
 },
 "nbformat": 4,
 "nbformat_minor": 5
}
